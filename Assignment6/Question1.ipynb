{
 "cells": [
  {
   "cell_type": "markdown",
   "id": "3d1daf47-de2d-4f66-bc32-dfa8b518a127",
   "metadata": {},
   "source": [
    "In this dataset you have to predict that whether we have to give ATTORNEY to the clients or not (0=Yes, 1=No) \n",
    "based on below factors.\n",
    "CLMAGE - Age of Client\n",
    "CLMSEX - Sex of client (0=Male, 1= Female)\n",
    "SEATBELT - Whether client has Seatbelt or not (0=Yes, 1=No)\n",
    "CLMINSUR - Whether Client give Insurance or not (0=Yes, 1=No)\n",
    "LOSS - Loss that client faced\n",
    "\n",
    "Prepare model by using Naive Bayes,KNN and SVM & Also calculate Accuracy by confusion matrix, \n",
    "Calculate accuracy score, precision score, recall score, f1 score.\n",
    "\n",
    "Dataset : Claimants.csv"
   ]
  },
  {
   "cell_type": "markdown",
   "id": "3412c093-d5ab-46d1-a1aa-98c49ae11010",
   "metadata": {},
   "source": [
    "## Problem Definition\n",
    "    - Give attorney to clients or not"
   ]
  },
  {
   "cell_type": "markdown",
   "id": "b6f5ddc0-333a-428b-9d6e-66b6fc82f4bc",
   "metadata": {},
   "source": [
    "### import required packages"
   ]
  },
  {
   "cell_type": "code",
   "execution_count": 1,
   "id": "4a97f1e7-6b35-4556-a946-81ba5ab9d597",
   "metadata": {},
   "outputs": [],
   "source": [
    "import numpy as np\n",
    "import pandas as pd\n",
    "import matplotlib.pyplot as plt\n",
    "import seaborn as sns\n",
    "import warnings\n",
    "warnings.filterwarnings(action=\"ignore\")"
   ]
  },
  {
   "cell_type": "markdown",
   "id": "a45b339f-389f-4e00-ab27-f21e267993a5",
   "metadata": {},
   "source": [
    "### Load the data"
   ]
  },
  {
   "cell_type": "code",
   "execution_count": 2,
   "id": "6105694d-4233-4e2e-9d1c-f1848b03cf99",
   "metadata": {},
   "outputs": [
    {
     "data": {
      "text/html": [
       "<div>\n",
       "<style scoped>\n",
       "    .dataframe tbody tr th:only-of-type {\n",
       "        vertical-align: middle;\n",
       "    }\n",
       "\n",
       "    .dataframe tbody tr th {\n",
       "        vertical-align: top;\n",
       "    }\n",
       "\n",
       "    .dataframe thead th {\n",
       "        text-align: right;\n",
       "    }\n",
       "</style>\n",
       "<table border=\"1\" class=\"dataframe\">\n",
       "  <thead>\n",
       "    <tr style=\"text-align: right;\">\n",
       "      <th></th>\n",
       "      <th>ATTORNEY</th>\n",
       "      <th>CLMSEX</th>\n",
       "      <th>CLMINSUR</th>\n",
       "      <th>SEATBELT</th>\n",
       "      <th>CLMAGE</th>\n",
       "      <th>LOSS</th>\n",
       "    </tr>\n",
       "  </thead>\n",
       "  <tbody>\n",
       "    <tr>\n",
       "      <th>0</th>\n",
       "      <td>0</td>\n",
       "      <td>0.0</td>\n",
       "      <td>1.0</td>\n",
       "      <td>0.0</td>\n",
       "      <td>50.0</td>\n",
       "      <td>34.940</td>\n",
       "    </tr>\n",
       "    <tr>\n",
       "      <th>1</th>\n",
       "      <td>1</td>\n",
       "      <td>1.0</td>\n",
       "      <td>0.0</td>\n",
       "      <td>0.0</td>\n",
       "      <td>18.0</td>\n",
       "      <td>0.891</td>\n",
       "    </tr>\n",
       "    <tr>\n",
       "      <th>2</th>\n",
       "      <td>1</td>\n",
       "      <td>0.0</td>\n",
       "      <td>1.0</td>\n",
       "      <td>0.0</td>\n",
       "      <td>5.0</td>\n",
       "      <td>0.330</td>\n",
       "    </tr>\n",
       "  </tbody>\n",
       "</table>\n",
       "</div>"
      ],
      "text/plain": [
       "   ATTORNEY  CLMSEX  CLMINSUR  SEATBELT  CLMAGE    LOSS\n",
       "0         0     0.0       1.0       0.0    50.0  34.940\n",
       "1         1     1.0       0.0       0.0    18.0   0.891\n",
       "2         1     0.0       1.0       0.0     5.0   0.330"
      ]
     },
     "execution_count": 2,
     "metadata": {},
     "output_type": "execute_result"
    }
   ],
   "source": [
    "df=pd.read_csv(\"claimants.csv\")\n",
    "df.head(3)"
   ]
  },
  {
   "cell_type": "markdown",
   "id": "a34d80b9-214d-4984-bea7-9e3d7f959df2",
   "metadata": {},
   "source": [
    "### EDA"
   ]
  },
  {
   "cell_type": "code",
   "execution_count": 4,
   "id": "b8bc34c9-44c0-42a9-bd89-b857b89ab595",
   "metadata": {},
   "outputs": [
    {
     "name": "stdout",
     "output_type": "stream",
     "text": [
      "<class 'pandas.core.frame.DataFrame'>\n",
      "RangeIndex: 1340 entries, 0 to 1339\n",
      "Data columns (total 6 columns):\n",
      " #   Column    Non-Null Count  Dtype  \n",
      "---  ------    --------------  -----  \n",
      " 0   ATTORNEY  1340 non-null   int64  \n",
      " 1   CLMSEX    1328 non-null   float64\n",
      " 2   CLMINSUR  1299 non-null   float64\n",
      " 3   SEATBELT  1292 non-null   float64\n",
      " 4   CLMAGE    1151 non-null   float64\n",
      " 5   LOSS      1340 non-null   float64\n",
      "dtypes: float64(5), int64(1)\n",
      "memory usage: 62.9 KB\n"
     ]
    }
   ],
   "source": [
    "df.info()"
   ]
  },
  {
   "cell_type": "code",
   "execution_count": 5,
   "id": "6e235a36-e06e-4025-9cf6-bb55fc91246d",
   "metadata": {},
   "outputs": [
    {
     "data": {
      "text/plain": [
       "ATTORNEY\n",
       "0    685\n",
       "1    655\n",
       "Name: count, dtype: int64"
      ]
     },
     "execution_count": 5,
     "metadata": {},
     "output_type": "execute_result"
    }
   ],
   "source": [
    "df['ATTORNEY'].value_counts()"
   ]
  },
  {
   "cell_type": "code",
   "execution_count": 7,
   "id": "9e4d7f28-996e-4049-824e-99b991cf4650",
   "metadata": {},
   "outputs": [
    {
     "data": {
      "text/plain": [
       "ATTORNEY      0\n",
       "CLMSEX       12\n",
       "CLMINSUR     41\n",
       "SEATBELT     48\n",
       "CLMAGE      189\n",
       "LOSS          0\n",
       "dtype: int64"
      ]
     },
     "execution_count": 7,
     "metadata": {},
     "output_type": "execute_result"
    }
   ],
   "source": [
    "df.isna().sum()"
   ]
  },
  {
   "cell_type": "code",
   "execution_count": 9,
   "id": "32851a4a-f78f-42a3-8e5d-22b30320f42e",
   "metadata": {},
   "outputs": [],
   "source": [
    "df['CLMSEX'] = df['CLMSEX'].fillna(df['CLMSEX'].mean())"
   ]
  },
  {
   "cell_type": "code",
   "execution_count": 10,
   "id": "0fb5949b-2842-4f99-8180-751258eda914",
   "metadata": {},
   "outputs": [],
   "source": [
    "df['CLMINSUR'] = df['CLMINSUR'].fillna(df['CLMINSUR'].mean())"
   ]
  },
  {
   "cell_type": "code",
   "execution_count": 11,
   "id": "56ed1ab9-6180-495b-987f-39bbca48f5e5",
   "metadata": {},
   "outputs": [],
   "source": [
    "df['SEATBELT'] = df['SEATBELT'].fillna(df['SEATBELT'].mean())"
   ]
  },
  {
   "cell_type": "code",
   "execution_count": 12,
   "id": "9e3e58dc-6e6a-4752-b3a2-557d91829f2e",
   "metadata": {},
   "outputs": [],
   "source": [
    "df['CLMAGE'] = df['CLMAGE'].fillna(df['CLMAGE'].mean())"
   ]
  },
  {
   "cell_type": "code",
   "execution_count": 13,
   "id": "e1f9fabe-1398-4bdc-9411-b5ad8398cd09",
   "metadata": {},
   "outputs": [
    {
     "data": {
      "text/html": [
       "<div>\n",
       "<style scoped>\n",
       "    .dataframe tbody tr th:only-of-type {\n",
       "        vertical-align: middle;\n",
       "    }\n",
       "\n",
       "    .dataframe tbody tr th {\n",
       "        vertical-align: top;\n",
       "    }\n",
       "\n",
       "    .dataframe thead th {\n",
       "        text-align: right;\n",
       "    }\n",
       "</style>\n",
       "<table border=\"1\" class=\"dataframe\">\n",
       "  <thead>\n",
       "    <tr style=\"text-align: right;\">\n",
       "      <th></th>\n",
       "      <th>ATTORNEY</th>\n",
       "      <th>CLMSEX</th>\n",
       "      <th>CLMINSUR</th>\n",
       "      <th>SEATBELT</th>\n",
       "      <th>CLMAGE</th>\n",
       "      <th>LOSS</th>\n",
       "    </tr>\n",
       "  </thead>\n",
       "  <tbody>\n",
       "    <tr>\n",
       "      <th>ATTORNEY</th>\n",
       "      <td>1.000000</td>\n",
       "      <td>0.079321</td>\n",
       "      <td>0.078221</td>\n",
       "      <td>-0.056158</td>\n",
       "      <td>0.009886</td>\n",
       "      <td>-0.219715</td>\n",
       "    </tr>\n",
       "    <tr>\n",
       "      <th>CLMSEX</th>\n",
       "      <td>0.079321</td>\n",
       "      <td>1.000000</td>\n",
       "      <td>0.065382</td>\n",
       "      <td>-0.014778</td>\n",
       "      <td>-0.021428</td>\n",
       "      <td>-0.027602</td>\n",
       "    </tr>\n",
       "    <tr>\n",
       "      <th>CLMINSUR</th>\n",
       "      <td>0.078221</td>\n",
       "      <td>0.065382</td>\n",
       "      <td>1.000000</td>\n",
       "      <td>0.020899</td>\n",
       "      <td>0.046255</td>\n",
       "      <td>0.005810</td>\n",
       "    </tr>\n",
       "    <tr>\n",
       "      <th>SEATBELT</th>\n",
       "      <td>-0.056158</td>\n",
       "      <td>-0.014778</td>\n",
       "      <td>0.020899</td>\n",
       "      <td>1.000000</td>\n",
       "      <td>-0.026234</td>\n",
       "      <td>0.111031</td>\n",
       "    </tr>\n",
       "    <tr>\n",
       "      <th>CLMAGE</th>\n",
       "      <td>0.009886</td>\n",
       "      <td>-0.021428</td>\n",
       "      <td>0.046255</td>\n",
       "      <td>-0.026234</td>\n",
       "      <td>1.000000</td>\n",
       "      <td>0.057641</td>\n",
       "    </tr>\n",
       "    <tr>\n",
       "      <th>LOSS</th>\n",
       "      <td>-0.219715</td>\n",
       "      <td>-0.027602</td>\n",
       "      <td>0.005810</td>\n",
       "      <td>0.111031</td>\n",
       "      <td>0.057641</td>\n",
       "      <td>1.000000</td>\n",
       "    </tr>\n",
       "  </tbody>\n",
       "</table>\n",
       "</div>"
      ],
      "text/plain": [
       "          ATTORNEY    CLMSEX  CLMINSUR  SEATBELT    CLMAGE      LOSS\n",
       "ATTORNEY  1.000000  0.079321  0.078221 -0.056158  0.009886 -0.219715\n",
       "CLMSEX    0.079321  1.000000  0.065382 -0.014778 -0.021428 -0.027602\n",
       "CLMINSUR  0.078221  0.065382  1.000000  0.020899  0.046255  0.005810\n",
       "SEATBELT -0.056158 -0.014778  0.020899  1.000000 -0.026234  0.111031\n",
       "CLMAGE    0.009886 -0.021428  0.046255 -0.026234  1.000000  0.057641\n",
       "LOSS     -0.219715 -0.027602  0.005810  0.111031  0.057641  1.000000"
      ]
     },
     "execution_count": 13,
     "metadata": {},
     "output_type": "execute_result"
    }
   ],
   "source": [
    "df.corr()"
   ]
  },
  {
   "cell_type": "code",
   "execution_count": 15,
   "id": "35d4697a-75a9-4189-8e6f-73d406df7cba",
   "metadata": {},
   "outputs": [],
   "source": [
    "df.drop('CLMINSUR',axis=1, inplace=True)"
   ]
  },
  {
   "cell_type": "code",
   "execution_count": 16,
   "id": "7288affe-5ad6-4391-8f28-bb824b317d4c",
   "metadata": {},
   "outputs": [
    {
     "data": {
      "text/html": [
       "<div>\n",
       "<style scoped>\n",
       "    .dataframe tbody tr th:only-of-type {\n",
       "        vertical-align: middle;\n",
       "    }\n",
       "\n",
       "    .dataframe tbody tr th {\n",
       "        vertical-align: top;\n",
       "    }\n",
       "\n",
       "    .dataframe thead th {\n",
       "        text-align: right;\n",
       "    }\n",
       "</style>\n",
       "<table border=\"1\" class=\"dataframe\">\n",
       "  <thead>\n",
       "    <tr style=\"text-align: right;\">\n",
       "      <th></th>\n",
       "      <th>ATTORNEY</th>\n",
       "      <th>CLMSEX</th>\n",
       "      <th>SEATBELT</th>\n",
       "      <th>CLMAGE</th>\n",
       "      <th>LOSS</th>\n",
       "    </tr>\n",
       "  </thead>\n",
       "  <tbody>\n",
       "    <tr>\n",
       "      <th>0</th>\n",
       "      <td>0</td>\n",
       "      <td>0.0</td>\n",
       "      <td>0.0</td>\n",
       "      <td>50.0</td>\n",
       "      <td>34.940</td>\n",
       "    </tr>\n",
       "    <tr>\n",
       "      <th>1</th>\n",
       "      <td>1</td>\n",
       "      <td>1.0</td>\n",
       "      <td>0.0</td>\n",
       "      <td>18.0</td>\n",
       "      <td>0.891</td>\n",
       "    </tr>\n",
       "    <tr>\n",
       "      <th>2</th>\n",
       "      <td>1</td>\n",
       "      <td>0.0</td>\n",
       "      <td>0.0</td>\n",
       "      <td>5.0</td>\n",
       "      <td>0.330</td>\n",
       "    </tr>\n",
       "    <tr>\n",
       "      <th>3</th>\n",
       "      <td>0</td>\n",
       "      <td>0.0</td>\n",
       "      <td>1.0</td>\n",
       "      <td>31.0</td>\n",
       "      <td>0.037</td>\n",
       "    </tr>\n",
       "    <tr>\n",
       "      <th>4</th>\n",
       "      <td>1</td>\n",
       "      <td>0.0</td>\n",
       "      <td>0.0</td>\n",
       "      <td>30.0</td>\n",
       "      <td>0.038</td>\n",
       "    </tr>\n",
       "  </tbody>\n",
       "</table>\n",
       "</div>"
      ],
      "text/plain": [
       "   ATTORNEY  CLMSEX  SEATBELT  CLMAGE    LOSS\n",
       "0         0     0.0       0.0    50.0  34.940\n",
       "1         1     1.0       0.0    18.0   0.891\n",
       "2         1     0.0       0.0     5.0   0.330\n",
       "3         0     0.0       1.0    31.0   0.037\n",
       "4         1     0.0       0.0    30.0   0.038"
      ]
     },
     "execution_count": 16,
     "metadata": {},
     "output_type": "execute_result"
    }
   ],
   "source": [
    "df.head()"
   ]
  },
  {
   "cell_type": "markdown",
   "id": "62cb3829-0bd7-4b6f-a95b-5fdc4a95cd55",
   "metadata": {},
   "source": [
    "#### Spliting the data"
   ]
  },
  {
   "cell_type": "code",
   "execution_count": 24,
   "id": "7d3099bd-0307-4d8d-a526-0356fe71986c",
   "metadata": {},
   "outputs": [],
   "source": [
    "# split the data\n",
    "x=df.drop('ATTORNEY',axis=1)\n",
    "y=df['ATTORNEY']\n",
    "\n",
    "from sklearn.model_selection import train_test_split\n",
    "x_train,x_test,y_train,y_test = train_test_split(x,y,train_size=0.7,random_state=123456)\n"
   ]
  },
  {
   "cell_type": "markdown",
   "id": "b3f6db67-a496-40e9-a320-db6c1ea067aa",
   "metadata": {},
   "source": [
    "### Training the model"
   ]
  },
  {
   "cell_type": "markdown",
   "id": "ed956334-20e6-4704-97cc-620138cd67ee",
   "metadata": {},
   "source": [
    "#### Naive Bayes"
   ]
  },
  {
   "cell_type": "code",
   "execution_count": 25,
   "id": "0d36da12-a52d-4804-a207-af1bd484fecd",
   "metadata": {},
   "outputs": [],
   "source": [
    "from sklearn.naive_bayes import GaussianNB\n",
    "\n",
    "def create_naive_bayes_model():\n",
    "    model = GaussianNB()\n",
    "    model.fit(x_train,y_train)\n",
    "    return model"
   ]
  },
  {
   "cell_type": "markdown",
   "id": "ddff03ff-a091-407a-812e-866395d77cc2",
   "metadata": {},
   "source": [
    "#### KNN"
   ]
  },
  {
   "cell_type": "code",
   "execution_count": 26,
   "id": "ad8865ef-3bbe-4d56-9daa-ca2050a7a52d",
   "metadata": {},
   "outputs": [],
   "source": [
    "from sklearn.neighbors import KNeighborsClassifier\n",
    "\n",
    "def create_knn_model():\n",
    "    model = KNeighborsClassifier()\n",
    "    model.fit(x_train,y_train)\n",
    "    return model"
   ]
  },
  {
   "cell_type": "markdown",
   "id": "9b3691d4-be2c-4f00-a5ce-2feaad3105d4",
   "metadata": {},
   "source": [
    "#### SVM"
   ]
  },
  {
   "cell_type": "code",
   "execution_count": 27,
   "id": "08ca6e89-7310-409a-9da5-122533cba6e8",
   "metadata": {},
   "outputs": [],
   "source": [
    "from sklearn.svm import SVC\n",
    "\n",
    "def create_svm_model():\n",
    "    model=SVC()\n",
    "    model.fit(x_train,y_train)\n",
    "    return model"
   ]
  },
  {
   "cell_type": "markdown",
   "id": "797483ca-44ea-43ef-afc7-a8d7d65ab17b",
   "metadata": {},
   "source": [
    "#### Model Evaluation"
   ]
  },
  {
   "cell_type": "markdown",
   "id": "d0ae1e80-4663-485e-9230-a8a46dbf2e07",
   "metadata": {},
   "source": [
    "confusion matrix, `Calculate accuracy score, precision score, recall score, f1 score."
   ]
  },
  {
   "cell_type": "code",
   "execution_count": 28,
   "id": "d2eb2568-a2d6-4389-821a-a0f52113217b",
   "metadata": {},
   "outputs": [],
   "source": [
    "from sklearn.metrics import confusion_matrix, accuracy_score,precision_score,recall_score,f1_score\n",
    "\n",
    "def evaluate_model(model_name, model):\n",
    "    y_pred = model.predict(x_test)\n",
    "    y_true = y_test\n",
    "\n",
    "    cm = confusion_matrix(y_true,y_pred)\n",
    "    accuracy = accuracy_score(y_true,y_pred)\n",
    "    precision = precision_score(y_true,y_pred)\n",
    "    recall = recall_score(y_true,y_pred)\n",
    "    f1 = f1_score(y_true,y_pred)\n",
    "\n",
    "    return model_name,cm,accuracy,precision,recall,f1\n"
   ]
  },
  {
   "cell_type": "code",
   "execution_count": 29,
   "id": "f200d6fe-ab82-41cb-ba86-288fb69e0554",
   "metadata": {},
   "outputs": [],
   "source": [
    "models = pd.DataFrame([\n",
    "    evaluate_model(\"Naive Bayes\", create_naive_bayes_model()),\n",
    "    evaluate_model(\"KNN\", create_knn_model()),\n",
    "    evaluate_model(\"SVM\", create_svm_model())\n",
    "], columns=['Model Name', 'cm', 'accuracy', 'precision', 'recall', 'f1'])"
   ]
  },
  {
   "cell_type": "code",
   "execution_count": 30,
   "id": "d1af0297-adc1-4c2a-a42a-008e800284dc",
   "metadata": {},
   "outputs": [
    {
     "data": {
      "text/html": [
       "<div>\n",
       "<style scoped>\n",
       "    .dataframe tbody tr th:only-of-type {\n",
       "        vertical-align: middle;\n",
       "    }\n",
       "\n",
       "    .dataframe tbody tr th {\n",
       "        vertical-align: top;\n",
       "    }\n",
       "\n",
       "    .dataframe thead th {\n",
       "        text-align: right;\n",
       "    }\n",
       "</style>\n",
       "<table border=\"1\" class=\"dataframe\">\n",
       "  <thead>\n",
       "    <tr style=\"text-align: right;\">\n",
       "      <th></th>\n",
       "      <th>Model Name</th>\n",
       "      <th>cm</th>\n",
       "      <th>accuracy</th>\n",
       "      <th>precision</th>\n",
       "      <th>recall</th>\n",
       "      <th>f1</th>\n",
       "    </tr>\n",
       "  </thead>\n",
       "  <tbody>\n",
       "    <tr>\n",
       "      <th>0</th>\n",
       "      <td>Naive Bayes</td>\n",
       "      <td>[[16, 191], [3, 193]]</td>\n",
       "      <td>0.518610</td>\n",
       "      <td>0.502604</td>\n",
       "      <td>0.984694</td>\n",
       "      <td>0.665517</td>\n",
       "    </tr>\n",
       "    <tr>\n",
       "      <th>1</th>\n",
       "      <td>KNN</td>\n",
       "      <td>[[127, 80], [63, 133]]</td>\n",
       "      <td>0.645161</td>\n",
       "      <td>0.624413</td>\n",
       "      <td>0.678571</td>\n",
       "      <td>0.650367</td>\n",
       "    </tr>\n",
       "    <tr>\n",
       "      <th>2</th>\n",
       "      <td>SVM</td>\n",
       "      <td>[[121, 86], [46, 150]]</td>\n",
       "      <td>0.672457</td>\n",
       "      <td>0.635593</td>\n",
       "      <td>0.765306</td>\n",
       "      <td>0.694444</td>\n",
       "    </tr>\n",
       "  </tbody>\n",
       "</table>\n",
       "</div>"
      ],
      "text/plain": [
       "    Model Name                      cm  accuracy  precision    recall  \\\n",
       "0  Naive Bayes   [[16, 191], [3, 193]]  0.518610   0.502604  0.984694   \n",
       "1          KNN  [[127, 80], [63, 133]]  0.645161   0.624413  0.678571   \n",
       "2          SVM  [[121, 86], [46, 150]]  0.672457   0.635593  0.765306   \n",
       "\n",
       "         f1  \n",
       "0  0.665517  \n",
       "1  0.650367  \n",
       "2  0.694444  "
      ]
     },
     "execution_count": 30,
     "metadata": {},
     "output_type": "execute_result"
    }
   ],
   "source": [
    "models"
   ]
  },
  {
   "cell_type": "code",
   "execution_count": null,
   "id": "ec996dce-076a-4955-a98e-443eba127dea",
   "metadata": {},
   "outputs": [],
   "source": []
  },
  {
   "cell_type": "code",
   "execution_count": null,
   "id": "a49e2d75-603b-4d55-9cc4-6f222fa08d34",
   "metadata": {},
   "outputs": [],
   "source": []
  },
  {
   "cell_type": "code",
   "execution_count": null,
   "id": "4d448f6b-3629-41dd-8972-caeff309d422",
   "metadata": {},
   "outputs": [],
   "source": []
  },
  {
   "cell_type": "code",
   "execution_count": null,
   "id": "2ee4689a-5b7a-40d1-bd5c-c49f98fd0af2",
   "metadata": {},
   "outputs": [],
   "source": []
  },
  {
   "cell_type": "code",
   "execution_count": null,
   "id": "316c19d0-377a-4fe1-9a29-998ff70c703d",
   "metadata": {},
   "outputs": [],
   "source": []
  }
 ],
 "metadata": {
  "kernelspec": {
   "display_name": "Python 3 (ipykernel)",
   "language": "python",
   "name": "python3"
  },
  "language_info": {
   "codemirror_mode": {
    "name": "ipython",
    "version": 3
   },
   "file_extension": ".py",
   "mimetype": "text/x-python",
   "name": "python",
   "nbconvert_exporter": "python",
   "pygments_lexer": "ipython3",
   "version": "3.12.5"
  }
 },
 "nbformat": 4,
 "nbformat_minor": 5
}
