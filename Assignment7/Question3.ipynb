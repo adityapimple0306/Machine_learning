{
 "cells": [
  {
   "cell_type": "markdown",
   "id": "058b7425-8bc1-48e1-b36c-585311c667a8",
   "metadata": {},
   "source": [
    "In this dataset you have to predict that whether we have to give ATTORNEY to the clients or not (0=Yes, 1=No) based on below factors.\n",
    "CLMAGE - Age of Client\n",
    "CLMSEX - Sex of client (0=Male, 1= Female)\n",
    "SEATBELT - Whether client has Seatbelt or not (0=Yes, 1=No)\n",
    "CLMINSUR - Whether Client give Insurance or not (0=Yes, 1=No)\n",
    "LOSS - Loss that client faced\n",
    "\n",
    "Prepare model by using Decision Tree, Random Forest , AdaBoost, CatBoost, XGBoost & Calculate Accuracy by confusion matrix, Calculate accuracy score, precision score, recall score, f1 score.\n",
    "\n",
    "Dataset : Claimants.csv"
   ]
  },
  {
   "cell_type": "code",
   "execution_count": 3,
   "id": "60dd4dbc-eb39-4f87-8d72-14bc96fb90ea",
   "metadata": {},
   "outputs": [],
   "source": [
    "import numpy as np \n",
    "import pandas as pd\n",
    "import matplotlib.pyplot as plt \n",
    "import seaborn as sns\n",
    "import warnings\n",
    "warnings.filterwarnings(action=\"ignore\")"
   ]
  },
  {
   "cell_type": "code",
   "execution_count": 4,
   "id": "9ffdc1f7-263b-4cf3-baa8-735c5520656a",
   "metadata": {},
   "outputs": [
    {
     "data": {
      "text/html": [
       "<div>\n",
       "<style scoped>\n",
       "    .dataframe tbody tr th:only-of-type {\n",
       "        vertical-align: middle;\n",
       "    }\n",
       "\n",
       "    .dataframe tbody tr th {\n",
       "        vertical-align: top;\n",
       "    }\n",
       "\n",
       "    .dataframe thead th {\n",
       "        text-align: right;\n",
       "    }\n",
       "</style>\n",
       "<table border=\"1\" class=\"dataframe\">\n",
       "  <thead>\n",
       "    <tr style=\"text-align: right;\">\n",
       "      <th></th>\n",
       "      <th>ATTORNEY</th>\n",
       "      <th>CLMSEX</th>\n",
       "      <th>CLMINSUR</th>\n",
       "      <th>SEATBELT</th>\n",
       "      <th>CLMAGE</th>\n",
       "      <th>LOSS</th>\n",
       "    </tr>\n",
       "  </thead>\n",
       "  <tbody>\n",
       "    <tr>\n",
       "      <th>0</th>\n",
       "      <td>0</td>\n",
       "      <td>0.0</td>\n",
       "      <td>1.0</td>\n",
       "      <td>0.0</td>\n",
       "      <td>50.0</td>\n",
       "      <td>34.940</td>\n",
       "    </tr>\n",
       "    <tr>\n",
       "      <th>1</th>\n",
       "      <td>1</td>\n",
       "      <td>1.0</td>\n",
       "      <td>0.0</td>\n",
       "      <td>0.0</td>\n",
       "      <td>18.0</td>\n",
       "      <td>0.891</td>\n",
       "    </tr>\n",
       "    <tr>\n",
       "      <th>2</th>\n",
       "      <td>1</td>\n",
       "      <td>0.0</td>\n",
       "      <td>1.0</td>\n",
       "      <td>0.0</td>\n",
       "      <td>5.0</td>\n",
       "      <td>0.330</td>\n",
       "    </tr>\n",
       "    <tr>\n",
       "      <th>3</th>\n",
       "      <td>0</td>\n",
       "      <td>0.0</td>\n",
       "      <td>1.0</td>\n",
       "      <td>1.0</td>\n",
       "      <td>31.0</td>\n",
       "      <td>0.037</td>\n",
       "    </tr>\n",
       "    <tr>\n",
       "      <th>4</th>\n",
       "      <td>1</td>\n",
       "      <td>0.0</td>\n",
       "      <td>1.0</td>\n",
       "      <td>0.0</td>\n",
       "      <td>30.0</td>\n",
       "      <td>0.038</td>\n",
       "    </tr>\n",
       "  </tbody>\n",
       "</table>\n",
       "</div>"
      ],
      "text/plain": [
       "   ATTORNEY  CLMSEX  CLMINSUR  SEATBELT  CLMAGE    LOSS\n",
       "0         0     0.0       1.0       0.0    50.0  34.940\n",
       "1         1     1.0       0.0       0.0    18.0   0.891\n",
       "2         1     0.0       1.0       0.0     5.0   0.330\n",
       "3         0     0.0       1.0       1.0    31.0   0.037\n",
       "4         1     0.0       1.0       0.0    30.0   0.038"
      ]
     },
     "execution_count": 4,
     "metadata": {},
     "output_type": "execute_result"
    }
   ],
   "source": [
    "df = pd.read_csv(\"claimants.csv\")\n",
    "df.head()"
   ]
  },
  {
   "cell_type": "code",
   "execution_count": null,
   "id": "7fe01a66-2dcf-4463-9c69-179adb3be348",
   "metadata": {},
   "outputs": [],
   "source": []
  },
  {
   "cell_type": "code",
   "execution_count": 7,
   "id": "770895f5-b34d-4a3d-82f9-417e154ced41",
   "metadata": {},
   "outputs": [
    {
     "name": "stdout",
     "output_type": "stream",
     "text": [
      "<class 'pandas.core.frame.DataFrame'>\n",
      "RangeIndex: 1340 entries, 0 to 1339\n",
      "Data columns (total 6 columns):\n",
      " #   Column    Non-Null Count  Dtype  \n",
      "---  ------    --------------  -----  \n",
      " 0   ATTORNEY  1340 non-null   int64  \n",
      " 1   CLMSEX    1328 non-null   float64\n",
      " 2   CLMINSUR  1299 non-null   float64\n",
      " 3   SEATBELT  1292 non-null   float64\n",
      " 4   CLMAGE    1151 non-null   float64\n",
      " 5   LOSS      1340 non-null   float64\n",
      "dtypes: float64(5), int64(1)\n",
      "memory usage: 62.9 KB\n"
     ]
    }
   ],
   "source": [
    "df.info()"
   ]
  },
  {
   "cell_type": "code",
   "execution_count": 8,
   "id": "2b7bf3e0-5e97-47ea-8d44-8deb670ef9c5",
   "metadata": {},
   "outputs": [
    {
     "data": {
      "text/plain": [
       "ATTORNEY      0\n",
       "CLMSEX       12\n",
       "CLMINSUR     41\n",
       "SEATBELT     48\n",
       "CLMAGE      189\n",
       "LOSS          0\n",
       "dtype: int64"
      ]
     },
     "execution_count": 8,
     "metadata": {},
     "output_type": "execute_result"
    }
   ],
   "source": [
    "df.isna().sum()"
   ]
  },
  {
   "cell_type": "code",
   "execution_count": 10,
   "id": "52cb6914-45e0-4ec1-abb9-376b4c0855ad",
   "metadata": {},
   "outputs": [],
   "source": [
    "df['CLMSEX'] = df['CLMSEX'].fillna(df['CLMSEX'].mean())"
   ]
  },
  {
   "cell_type": "code",
   "execution_count": 11,
   "id": "7e049fd5-65ca-4a48-9ea9-7ee839d90b9d",
   "metadata": {},
   "outputs": [],
   "source": [
    "df['CLMINSUR'] = df['CLMINSUR'].fillna(df['CLMINSUR'].mean())"
   ]
  },
  {
   "cell_type": "code",
   "execution_count": 12,
   "id": "f16cabf4-723d-49ad-8973-0530c0ab5e92",
   "metadata": {},
   "outputs": [],
   "source": [
    "df['SEATBELT'] = df['SEATBELT'].fillna(df['SEATBELT'].mean())"
   ]
  },
  {
   "cell_type": "code",
   "execution_count": 13,
   "id": "6cebd5d4-0bf0-4770-be89-1dcebacca9e3",
   "metadata": {},
   "outputs": [],
   "source": [
    "df['CLMAGE'] = df['CLMAGE'].fillna(df['CLMAGE'].mean())"
   ]
  },
  {
   "cell_type": "code",
   "execution_count": 14,
   "id": "2727fd73-cf0e-4674-9de5-b495223fe01c",
   "metadata": {},
   "outputs": [
    {
     "name": "stdout",
     "output_type": "stream",
     "text": [
      "<class 'pandas.core.frame.DataFrame'>\n",
      "RangeIndex: 1340 entries, 0 to 1339\n",
      "Data columns (total 6 columns):\n",
      " #   Column    Non-Null Count  Dtype  \n",
      "---  ------    --------------  -----  \n",
      " 0   ATTORNEY  1340 non-null   int64  \n",
      " 1   CLMSEX    1340 non-null   float64\n",
      " 2   CLMINSUR  1340 non-null   float64\n",
      " 3   SEATBELT  1340 non-null   float64\n",
      " 4   CLMAGE    1340 non-null   float64\n",
      " 5   LOSS      1340 non-null   float64\n",
      "dtypes: float64(5), int64(1)\n",
      "memory usage: 62.9 KB\n"
     ]
    }
   ],
   "source": [
    "df.info()"
   ]
  },
  {
   "cell_type": "code",
   "execution_count": 15,
   "id": "2fc9690c-dcc9-46b5-956e-af15a060d439",
   "metadata": {},
   "outputs": [
    {
     "data": {
      "text/plain": [
       "ATTORNEY\n",
       "0    685\n",
       "1    655\n",
       "Name: count, dtype: int64"
      ]
     },
     "execution_count": 15,
     "metadata": {},
     "output_type": "execute_result"
    }
   ],
   "source": [
    "df['ATTORNEY'].value_counts()"
   ]
  },
  {
   "cell_type": "code",
   "execution_count": 16,
   "id": "9e92bdb2-bf2c-4bb6-ac7e-b36e9f32fe3f",
   "metadata": {},
   "outputs": [
    {
     "data": {
      "text/html": [
       "<div>\n",
       "<style scoped>\n",
       "    .dataframe tbody tr th:only-of-type {\n",
       "        vertical-align: middle;\n",
       "    }\n",
       "\n",
       "    .dataframe tbody tr th {\n",
       "        vertical-align: top;\n",
       "    }\n",
       "\n",
       "    .dataframe thead th {\n",
       "        text-align: right;\n",
       "    }\n",
       "</style>\n",
       "<table border=\"1\" class=\"dataframe\">\n",
       "  <thead>\n",
       "    <tr style=\"text-align: right;\">\n",
       "      <th></th>\n",
       "      <th>ATTORNEY</th>\n",
       "      <th>CLMSEX</th>\n",
       "      <th>CLMINSUR</th>\n",
       "      <th>SEATBELT</th>\n",
       "      <th>CLMAGE</th>\n",
       "      <th>LOSS</th>\n",
       "    </tr>\n",
       "  </thead>\n",
       "  <tbody>\n",
       "    <tr>\n",
       "      <th>ATTORNEY</th>\n",
       "      <td>1.000000</td>\n",
       "      <td>0.079321</td>\n",
       "      <td>0.078221</td>\n",
       "      <td>-0.056158</td>\n",
       "      <td>0.009886</td>\n",
       "      <td>-0.219715</td>\n",
       "    </tr>\n",
       "    <tr>\n",
       "      <th>CLMSEX</th>\n",
       "      <td>0.079321</td>\n",
       "      <td>1.000000</td>\n",
       "      <td>0.065382</td>\n",
       "      <td>-0.014778</td>\n",
       "      <td>-0.021428</td>\n",
       "      <td>-0.027602</td>\n",
       "    </tr>\n",
       "    <tr>\n",
       "      <th>CLMINSUR</th>\n",
       "      <td>0.078221</td>\n",
       "      <td>0.065382</td>\n",
       "      <td>1.000000</td>\n",
       "      <td>0.020899</td>\n",
       "      <td>0.046255</td>\n",
       "      <td>0.005810</td>\n",
       "    </tr>\n",
       "    <tr>\n",
       "      <th>SEATBELT</th>\n",
       "      <td>-0.056158</td>\n",
       "      <td>-0.014778</td>\n",
       "      <td>0.020899</td>\n",
       "      <td>1.000000</td>\n",
       "      <td>-0.026234</td>\n",
       "      <td>0.111031</td>\n",
       "    </tr>\n",
       "    <tr>\n",
       "      <th>CLMAGE</th>\n",
       "      <td>0.009886</td>\n",
       "      <td>-0.021428</td>\n",
       "      <td>0.046255</td>\n",
       "      <td>-0.026234</td>\n",
       "      <td>1.000000</td>\n",
       "      <td>0.057641</td>\n",
       "    </tr>\n",
       "    <tr>\n",
       "      <th>LOSS</th>\n",
       "      <td>-0.219715</td>\n",
       "      <td>-0.027602</td>\n",
       "      <td>0.005810</td>\n",
       "      <td>0.111031</td>\n",
       "      <td>0.057641</td>\n",
       "      <td>1.000000</td>\n",
       "    </tr>\n",
       "  </tbody>\n",
       "</table>\n",
       "</div>"
      ],
      "text/plain": [
       "          ATTORNEY    CLMSEX  CLMINSUR  SEATBELT    CLMAGE      LOSS\n",
       "ATTORNEY  1.000000  0.079321  0.078221 -0.056158  0.009886 -0.219715\n",
       "CLMSEX    0.079321  1.000000  0.065382 -0.014778 -0.021428 -0.027602\n",
       "CLMINSUR  0.078221  0.065382  1.000000  0.020899  0.046255  0.005810\n",
       "SEATBELT -0.056158 -0.014778  0.020899  1.000000 -0.026234  0.111031\n",
       "CLMAGE    0.009886 -0.021428  0.046255 -0.026234  1.000000  0.057641\n",
       "LOSS     -0.219715 -0.027602  0.005810  0.111031  0.057641  1.000000"
      ]
     },
     "execution_count": 16,
     "metadata": {},
     "output_type": "execute_result"
    }
   ],
   "source": [
    "df.corr()"
   ]
  },
  {
   "cell_type": "code",
   "execution_count": 17,
   "id": "783c8d75-b9d1-44a5-8fc4-aa11d421831a",
   "metadata": {},
   "outputs": [],
   "source": [
    "df.drop(['CLMSEX', 'CLMINSUR'], axis=1, inplace=True)"
   ]
  },
  {
   "cell_type": "code",
   "execution_count": 18,
   "id": "8ab2ee82-da74-4b27-8236-a5157baa0689",
   "metadata": {},
   "outputs": [],
   "source": [
    "x=df.drop(['ATTORNEY'], axis=1)\n",
    "y=df['ATTORNEY']"
   ]
  },
  {
   "cell_type": "code",
   "execution_count": 19,
   "id": "a822fd86-8112-4702-aba5-1a33da535af4",
   "metadata": {},
   "outputs": [],
   "source": [
    "from sklearn.model_selection import train_test_split\n",
    "x_train,x_test,y_train,y_test = train_test_split(x,y, train_size=0.7, random_state=123456)\n"
   ]
  },
  {
   "cell_type": "markdown",
   "id": "ce22b4cb-823a-43b8-998d-2a98fa9fbbb3",
   "metadata": {},
   "source": [
    "Decision Tree, Random Forest , AdaBoost, CatBoost, XGBoost & "
   ]
  },
  {
   "cell_type": "code",
   "execution_count": 20,
   "id": "f3b764eb-9e81-41be-a9c2-69508c4c5ed5",
   "metadata": {},
   "outputs": [],
   "source": [
    "from sklearn.tree import DecisionTreeClassifier\n",
    "\n",
    "def create_model_decision_tree_classifier():\n",
    "    model = DecisionTreeClassifier()\n",
    "    model.fit(x_train,y_train)\n",
    "    return model"
   ]
  },
  {
   "cell_type": "code",
   "execution_count": 21,
   "id": "921f15f9-124d-4f87-8496-61e7c7dddd18",
   "metadata": {},
   "outputs": [],
   "source": [
    "from sklearn.ensemble import RandomForestClassifier\n",
    "\n",
    "def create_model_random_forest():\n",
    "    model = RandomForestClassifier(n_estimators=100)\n",
    "    model.fit(x_train, y_train)\n",
    "    return model"
   ]
  },
  {
   "cell_type": "code",
   "execution_count": 22,
   "id": "8d80ab1c-6b46-4f99-8bd0-c1460dfa356a",
   "metadata": {},
   "outputs": [],
   "source": [
    "from sklearn.ensemble import AdaBoostClassifier\n",
    "\n",
    "def create_model_adaboost():\n",
    "    model = AdaBoostClassifier()\n",
    "    model.fit(x_train,y_train)\n",
    "    return model"
   ]
  },
  {
   "cell_type": "code",
   "execution_count": 23,
   "id": "c05cd2eb-c8ee-4085-af8f-9e42bd5b4592",
   "metadata": {},
   "outputs": [],
   "source": [
    "from catboost import CatBoostClassifier\n",
    "\n",
    "def create_model_catboost():\n",
    "    model = CatBoostClassifier(logging_level='Silent')\n",
    "    model.fit(x_train,y_train)\n",
    "    return model"
   ]
  },
  {
   "cell_type": "code",
   "execution_count": 24,
   "id": "43fc8975-a286-4d90-821d-4b9dc19332bf",
   "metadata": {},
   "outputs": [],
   "source": [
    "from xgboost import XGBClassifier\n",
    "\n",
    "def create_model_xgboost():\n",
    "    model = XGBClassifier()\n",
    "    model.fit(x_train,y_train)\n",
    "    return model"
   ]
  },
  {
   "cell_type": "markdown",
   "id": "cccd1fc7-472d-4fd6-877b-4183de6aeac0",
   "metadata": {},
   "source": [
    "Calculate Accuracy by confusion matrix, Calculate accuracy score, precision score, recall score, f1 score"
   ]
  },
  {
   "cell_type": "code",
   "execution_count": 25,
   "id": "8cc7c599-9b13-4b44-a1a3-498a3612fb19",
   "metadata": {},
   "outputs": [],
   "source": [
    "from sklearn.metrics import confusion_matrix,accuracy_score, precision_score, recall_score, f1_score, roc_auc_score\n",
    "\n",
    "def evaluate_model(model):\n",
    "    # training accuracry\n",
    "    y_pred = model.predict(x_train)\n",
    "    y_true = y_train\n",
    "\n",
    "    # calculate training accuracy\n",
    "    training_accuracy = accuracy_score(y_true, y_pred)\n",
    "\n",
    "    # testing accuracy\n",
    "    y_pred = model.predict(x_test)\n",
    "    y_true = y_test\n",
    "\n",
    "    # get the performance metrics for testing\n",
    "    \n",
    "    testing_accuracy = accuracy_score(y_true, y_pred)\n",
    "    testing_precision = precision_score(y_true, y_pred, average='macro')\n",
    "    testing_recall = recall_score(y_true, y_pred,average='macro')\n",
    "    testing_f1 = f1_score(y_true, y_pred,average='macro')\n",
    "\n",
    "    return training_accuracy, testing_accuracy, testing_precision, testing_recall, testing_f1"
   ]
  },
  {
   "cell_type": "code",
   "execution_count": 26,
   "id": "9d2dd122-478e-4ab5-9c08-3889bd9fa8ca",
   "metadata": {},
   "outputs": [
    {
     "data": {
      "text/plain": [
       "[('Decision Tree', DecisionTreeClassifier(), (2, 0)),\n",
       " ('Random Forest', RandomForestClassifier(), (2, 1)),\n",
       " ('CAT Boost', <catboost.core.CatBoostClassifier at 0x19093c99850>, (3, 0)),\n",
       " ('Ada Boost', AdaBoostClassifier(), (3, 1)),\n",
       " ('XG Boost',\n",
       "  XGBClassifier(base_score=None, booster=None, callbacks=None,\n",
       "                colsample_bylevel=None, colsample_bynode=None,\n",
       "                colsample_bytree=None, device=None, early_stopping_rounds=None,\n",
       "                enable_categorical=False, eval_metric=None, feature_types=None,\n",
       "                gamma=None, grow_policy=None, importance_type=None,\n",
       "                interaction_constraints=None, learning_rate=None, max_bin=None,\n",
       "                max_cat_threshold=None, max_cat_to_onehot=None,\n",
       "                max_delta_step=None, max_depth=None, max_leaves=None,\n",
       "                min_child_weight=None, missing=nan, monotone_constraints=None,\n",
       "                multi_strategy=None, n_estimators=None, n_jobs=None,\n",
       "                num_parallel_tree=None, random_state=None, ...),\n",
       "  (4, 1))]"
      ]
     },
     "execution_count": 26,
     "metadata": {},
     "output_type": "execute_result"
    }
   ],
   "source": [
    "models = [\n",
    "    (\"Decision Tree\", create_model_decision_tree_classifier(), (2, 0)),\n",
    "    (\"Random Forest\", create_model_random_forest(), (2, 1)),\n",
    "    (\"CAT Boost\", create_model_catboost(), (3, 0)),\n",
    "    (\"Ada Boost\", create_model_adaboost(), (3, 1)),\n",
    "    (\"XG Boost\", create_model_xgboost(), (4, 1))\n",
    "]\n",
    "models"
   ]
  },
  {
   "cell_type": "code",
   "execution_count": 27,
   "id": "727d77f4-ccb8-4bf3-8892-35e909ac60b1",
   "metadata": {},
   "outputs": [
    {
     "data": {
      "text/html": [
       "<div>\n",
       "<style scoped>\n",
       "    .dataframe tbody tr th:only-of-type {\n",
       "        vertical-align: middle;\n",
       "    }\n",
       "\n",
       "    .dataframe tbody tr th {\n",
       "        vertical-align: top;\n",
       "    }\n",
       "\n",
       "    .dataframe thead th {\n",
       "        text-align: right;\n",
       "    }\n",
       "</style>\n",
       "<table border=\"1\" class=\"dataframe\">\n",
       "  <thead>\n",
       "    <tr style=\"text-align: right;\">\n",
       "      <th></th>\n",
       "      <th>Model</th>\n",
       "      <th>Train Accuracy</th>\n",
       "      <th>Test Accuracy</th>\n",
       "      <th>Precision</th>\n",
       "      <th>Recall</th>\n",
       "      <th>F1</th>\n",
       "    </tr>\n",
       "  </thead>\n",
       "  <tbody>\n",
       "    <tr>\n",
       "      <th>0</th>\n",
       "      <td>Decision Tree</td>\n",
       "      <td>99.15%</td>\n",
       "      <td>63.28%</td>\n",
       "      <td>0.632944</td>\n",
       "      <td>0.633023</td>\n",
       "      <td>0.632734</td>\n",
       "    </tr>\n",
       "    <tr>\n",
       "      <th>1</th>\n",
       "      <td>Random Forest</td>\n",
       "      <td>99.15%</td>\n",
       "      <td>66.75%</td>\n",
       "      <td>0.667222</td>\n",
       "      <td>0.666975</td>\n",
       "      <td>0.667033</td>\n",
       "    </tr>\n",
       "    <tr>\n",
       "      <th>2</th>\n",
       "      <td>CAT Boost</td>\n",
       "      <td>76.95%</td>\n",
       "      <td>72.21%</td>\n",
       "      <td>0.724907</td>\n",
       "      <td>0.720250</td>\n",
       "      <td>0.719972</td>\n",
       "    </tr>\n",
       "    <tr>\n",
       "      <th>3</th>\n",
       "      <td>Ada Boost</td>\n",
       "      <td>75.24%</td>\n",
       "      <td>70.47%</td>\n",
       "      <td>0.707922</td>\n",
       "      <td>0.702664</td>\n",
       "      <td>0.702066</td>\n",
       "    </tr>\n",
       "    <tr>\n",
       "      <th>4</th>\n",
       "      <td>XG Boost</td>\n",
       "      <td>89.11%</td>\n",
       "      <td>66.50%</td>\n",
       "      <td>0.664730</td>\n",
       "      <td>0.664559</td>\n",
       "      <td>0.664608</td>\n",
       "    </tr>\n",
       "  </tbody>\n",
       "</table>\n",
       "</div>"
      ],
      "text/plain": [
       "           Model Train Accuracy Test Accuracy  Precision    Recall        F1\n",
       "0  Decision Tree         99.15%        63.28%   0.632944  0.633023  0.632734\n",
       "1  Random Forest         99.15%        66.75%   0.667222  0.666975  0.667033\n",
       "2      CAT Boost         76.95%        72.21%   0.724907  0.720250  0.719972\n",
       "3      Ada Boost         75.24%        70.47%   0.707922  0.702664  0.702066\n",
       "4       XG Boost         89.11%        66.50%   0.664730  0.664559  0.664608"
      ]
     },
     "execution_count": 27,
     "metadata": {},
     "output_type": "execute_result"
    }
   ],
   "source": [
    "performance_data = []\n",
    "for model_name, model, position in models:\n",
    "    training_accuracy, test_accuracy, precision, recall, f1 = evaluate_model(model)\n",
    "    performance_data.append([\n",
    "        model_name,\n",
    "        f\"{training_accuracy * 100:0.2f}%\", f\"{test_accuracy * 100:0.2f}%\",\n",
    "        precision, \n",
    "        recall,        \n",
    "        f1\n",
    "    ])\n",
    "    \n",
    "performance_chart = pd.DataFrame(performance_data, \n",
    "            columns=[\"Model\", \"Train Accuracy\", \"Test Accuracy\", \"Precision\", \"Recall\", \"F1\"])\n",
    "performance_chart"
   ]
  },
  {
   "cell_type": "code",
   "execution_count": null,
   "id": "781132dd-7924-4855-8014-fab5d59e5460",
   "metadata": {},
   "outputs": [],
   "source": []
  },
  {
   "cell_type": "code",
   "execution_count": null,
   "id": "2430409e-5b93-459b-9913-268e5efd0254",
   "metadata": {},
   "outputs": [],
   "source": []
  },
  {
   "cell_type": "code",
   "execution_count": null,
   "id": "a626ec2e-c584-4445-82ef-48832d000f8b",
   "metadata": {},
   "outputs": [],
   "source": []
  },
  {
   "cell_type": "code",
   "execution_count": null,
   "id": "9407e579-a137-4cd8-8dce-d0f8393ff77d",
   "metadata": {},
   "outputs": [],
   "source": []
  },
  {
   "cell_type": "code",
   "execution_count": null,
   "id": "a274f207-1807-4711-8376-bec4baa0db8e",
   "metadata": {},
   "outputs": [],
   "source": []
  },
  {
   "cell_type": "code",
   "execution_count": null,
   "id": "0642e03f-c72d-4342-ba43-e5386e01b6bc",
   "metadata": {},
   "outputs": [],
   "source": []
  },
  {
   "cell_type": "code",
   "execution_count": null,
   "id": "bfbba3fb-e099-4866-8d58-946edd0b4a87",
   "metadata": {},
   "outputs": [],
   "source": []
  }
 ],
 "metadata": {
  "kernelspec": {
   "display_name": "Python 3 (ipykernel)",
   "language": "python",
   "name": "python3"
  },
  "language_info": {
   "codemirror_mode": {
    "name": "ipython",
    "version": 3
   },
   "file_extension": ".py",
   "mimetype": "text/x-python",
   "name": "python",
   "nbconvert_exporter": "python",
   "pygments_lexer": "ipython3",
   "version": "3.12.5"
  }
 },
 "nbformat": 4,
 "nbformat_minor": 5
}
